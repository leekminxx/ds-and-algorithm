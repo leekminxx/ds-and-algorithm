{
 "cells": [
  {
   "cell_type": "code",
   "execution_count": 1,
   "metadata": {},
   "outputs": [],
   "source": [
    "# file: ds02_syntax.ipynb\n",
    "# desc: 파이썬 기초 복습"
   ]
  },
  {
   "cell_type": "markdown",
   "metadata": {},
   "source": [
    "## 자료구조와 알고리즘 \n",
    "\n",
    "- 파이썬 기초문법 복습\n",
    "\n",
    "### 1. 리스트 컨프리헨션(함축)"
   ]
  },
  {
   "cell_type": "code",
   "execution_count": 2,
   "metadata": {},
   "outputs": [
    {
     "data": {
      "text/plain": [
       "[1, 2, 3, 4, 5]"
      ]
     },
     "execution_count": 2,
     "metadata": {},
     "output_type": "execute_result"
    }
   ],
   "source": [
    "nums = []\n",
    "for i in range(1,6): #1,2,3,4,5 #반복문으로\n",
    "    nums.append(i)\n",
    "\n",
    "nums"
   ]
  },
  {
   "cell_type": "code",
   "execution_count": 3,
   "metadata": {},
   "outputs": [
    {
     "data": {
      "text/plain": [
       "[1, 2, 3, 4, 5]"
      ]
     },
     "execution_count": 3,
     "metadata": {},
     "output_type": "execute_result"
    }
   ],
   "source": [
    "nums = list(range(1,6)) # 클래스로 생성 \n",
    "nums "
   ]
  },
  {
   "cell_type": "code",
   "execution_count": 5,
   "metadata": {},
   "outputs": [
    {
     "data": {
      "text/plain": [
       "[1, 2, 3, 4, 5]"
      ]
     },
     "execution_count": 5,
     "metadata": {},
     "output_type": "execute_result"
    }
   ],
   "source": [
    "nums = [i for i in range(1,6)] #리스트 함축 \n",
    "nums"
   ]
  },
  {
   "cell_type": "code",
   "execution_count": 6,
   "metadata": {},
   "outputs": [
    {
     "data": {
      "text/plain": [
       "[1, 4, 9, 16, 25]"
      ]
     },
     "execution_count": 6,
     "metadata": {},
     "output_type": "execute_result"
    }
   ],
   "source": [
    "nums = [i * i for i in range(1,6)]\n",
    "nums"
   ]
  },
  {
   "cell_type": "code",
   "execution_count": 7,
   "metadata": {},
   "outputs": [
    {
     "data": {
      "text/plain": [
       "[1, 4, 9, 16, 25, 1, 4, 9, 16, 25]"
      ]
     },
     "execution_count": 7,
     "metadata": {},
     "output_type": "execute_result"
    }
   ],
   "source": [
    "nums = []\n",
    "for i in range(1,6):\n",
    "    nums.append(i * i)\n",
    "\n",
    "nums"
   ]
  },
  {
   "cell_type": "code",
   "execution_count": 8,
   "metadata": {},
   "outputs": [
    {
     "data": {
      "text/plain": [
       "[3, 6, 9, 12, 15, 18]"
      ]
     },
     "execution_count": 8,
     "metadata": {},
     "output_type": "execute_result"
    }
   ],
   "source": [
    "nums = []\n",
    "nums = [i for i in range(1,21) if i % 3 == 0]\n",
    "nums"
   ]
  },
  {
   "cell_type": "code",
   "execution_count": 10,
   "metadata": {},
   "outputs": [
    {
     "data": {
      "text/plain": [
       "[[0, 1, 2, 3], [0, 1, 2, 3], [0, 1, 2, 3]]"
      ]
     },
     "execution_count": 10,
     "metadata": {},
     "output_type": "execute_result"
    }
   ],
   "source": [
    "# 2차원 리스트\n",
    "nums2 = [[i for i in range(4)]for j in range(3)] #[[열 , 안쪽값] 행]\n",
    "nums2"
   ]
  },
  {
   "cell_type": "markdown",
   "metadata": {},
   "source": [
    "### 세트"
   ]
  },
  {
   "cell_type": "code",
   "execution_count": 12,
   "metadata": {},
   "outputs": [
    {
     "data": {
      "text/plain": [
       "{1, 2, 3}"
      ]
     },
     "execution_count": 12,
     "metadata": {},
     "output_type": "execute_result"
    }
   ],
   "source": [
    "myset = {1 , 2 ,3 , 3, 2 ,1} # 집합은 같은수는(값) 중복제거\n",
    "myset"
   ]
  },
  {
   "cell_type": "markdown",
   "metadata": {},
   "source": [
    "### 로또번호 생성기"
   ]
  },
  {
   "cell_type": "code",
   "execution_count": 13,
   "metadata": {},
   "outputs": [],
   "source": [
    "import random"
   ]
  },
  {
   "cell_type": "code",
   "execution_count": 14,
   "metadata": {},
   "outputs": [],
   "source": [
    "# 전역변수 선언\n",
    "totalLotto = [] #최종 로또번호 저장(2차원리스트)\n",
    "lotto = [] #한회별 로또번호 저장(1차원리스트)\n",
    "pickNum = 0 \n",
    "count = 0\n",
    "\n"
   ]
  },
  {
   "cell_type": "code",
   "execution_count": 19,
   "metadata": {},
   "outputs": [
    {
     "name": "stdout",
     "output_type": "stream",
     "text": [
      "로또번호 생성 시작\n",
      "로또번호 생성 완료\n"
     ]
    }
   ],
   "source": [
    "print('로또번호 생성 시작')\n",
    "count = int(input('뽑을 횟수 입력 > '))\n",
    "\n",
    "for _ in range(count): # _(i위치) 반복되는 숫자를 사용하지 않겠음\n",
    "    lotto = []\n",
    "    while True:\n",
    "        pickNum = random.randint(1 , 45) #1부터 45사이의 수를 저장\n",
    "        if pickNum not in lotto: #랜덤으로 뽑은수가 이미 있으면 패스\n",
    "            lotto.append(pickNum)\n",
    "        else: \n",
    "            continue #반복문이 여러개있으면 자신이 속한 반복문만 다시 반복\n",
    "\n",
    "        if len(lotto) >= 6: #숫자를 6개 뽑았으면 \n",
    "            break #반복문이 여러개 있으면 자신이 속한 반복문만 빠져나감\n",
    "\n",
    "    totalLotto.append(lotto)\n",
    "\n",
    "print('로또번호 생성 완료')"
   ]
  },
  {
   "cell_type": "code",
   "execution_count": 22,
   "metadata": {},
   "outputs": [
    {
     "name": "stdout",
     "output_type": "stream",
     "text": [
      "로또번호 >  01 13 25 37 42 44 \n",
      "로또번호 >  08 15 25 29 38 44 \n",
      "로또번호 >  07 10 22 31 41 44 \n",
      "로또번호 >  04 21 24 27 37 39 \n",
      "로또번호 >  04 13 22 30 42 44 \n",
      "로또번호 >  07 24 31 34 40 44 \n",
      "로또번호 >  02 19 22 26 35 38 \n",
      "로또번호 >  11 17 21 35 40 42 \n",
      "로또번호 >  02 05 28 34 35 43 \n",
      "로또번호 >  05 23 24 26 36 39 \n",
      "로또번호 >  13 14 22 27 36 43 \n",
      "로또번호 >  09 11 12 15 19 31 \n",
      "로또번호 >  03 15 20 26 30 37 \n",
      "로또번호 >  02 03 15 21 24 45 \n",
      "로또번호 >  05 12 21 33 35 38 \n",
      "로또번호 >  14 15 26 37 44 45 \n",
      "로또번호 >  11 13 32 39 41 44 \n",
      "로또번호 >  08 10 13 17 23 28 \n",
      "로또번호 >  03 17 19 29 39 45 \n",
      "로또번호 >  15 18 19 25 32 36 \n",
      "로또번호 >  09 28 30 34 37 38 \n",
      "로또번호 >  11 17 18 25 26 40 \n"
     ]
    }
   ],
   "source": [
    "for item in totalLotto:\n",
    "    item.sort()\n",
    "    print('로또번호 > ' , end=' ')\n",
    "    for i in item:\n",
    "        print(f'{i:02d}' , end=' ')\n",
    "\n",
    "    print()"
   ]
  },
  {
   "cell_type": "code",
   "execution_count": null,
   "metadata": {},
   "outputs": [],
   "source": []
  }
 ],
 "metadata": {
  "kernelspec": {
   "display_name": "Python 3",
   "language": "python",
   "name": "python3"
  },
  "language_info": {
   "codemirror_mode": {
    "name": "ipython",
    "version": 3
   },
   "file_extension": ".py",
   "mimetype": "text/x-python",
   "name": "python",
   "nbconvert_exporter": "python",
   "pygments_lexer": "ipython3",
   "version": "3.11.5"
  }
 },
 "nbformat": 4,
 "nbformat_minor": 2
}
