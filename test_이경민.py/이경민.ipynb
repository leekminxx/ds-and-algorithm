{
 "cells": [
  {
   "cell_type": "markdown",
   "metadata": {},
   "source": [
    "### 문제 1번"
   ]
  },
  {
   "cell_type": "markdown",
   "metadata": {},
   "source": []
  },
  {
   "cell_type": "code",
   "execution_count": 59,
   "metadata": {},
   "outputs": [],
   "source": [
    "def StackFull():\n",
    "    global SIZE , stack , top\n",
    "    if (top >= SIZE - 1) :\n",
    "        return True\n",
    "    else : \n",
    "        return"
   ]
  },
  {
   "cell_type": "code",
   "execution_count": 60,
   "metadata": {},
   "outputs": [],
   "source": [
    "def StackEmpty() :\n",
    "    global SIZE , stack , top \n",
    "    if (top == -1):\n",
    "        return True\n",
    "    else:\n",
    "        return False"
   ]
  },
  {
   "cell_type": "code",
   "execution_count": 61,
   "metadata": {},
   "outputs": [],
   "source": [
    "def put_in(data):\n",
    "    global SIZE , stack , top \n",
    "    if(StackFull()):\n",
    "        print('스택이 꽉 찼습니다.')\n",
    "        return\n",
    "    top += 1\n",
    "    stack[top] = data"
   ]
  },
  {
   "cell_type": "code",
   "execution_count": 62,
   "metadata": {},
   "outputs": [],
   "source": [
    "def Extraction() :\n",
    "    global SIZE , stack , top \n",
    "    if(StackEmpty()):\n",
    "        print('스택이 비었습니다.')\n",
    "        return None\n",
    "    data = stack[top]\n",
    "    stack[top] = None\n",
    "    top -= 1\n",
    "    return data\n"
   ]
  },
  {
   "cell_type": "code",
   "execution_count": 63,
   "metadata": {},
   "outputs": [],
   "source": [
    "def check() :\n",
    "    global SIZE , stack , top \n",
    "    if(StackEmpty()):\n",
    "        print('스택이 비었습니다.')\n",
    "        return None\n",
    "    return stack[top]\n",
    "\n",
    "SIZE = int(input('스택 크기를 입력하세요 ==> '))\n",
    "stack = [None for _ in range(SIZE)]\n",
    "top = -1"
   ]
  },
  {
   "cell_type": "code",
   "execution_count": 64,
   "metadata": {},
   "outputs": [],
   "source": [
    "if __name__ ==' __main__':\n",
    "    select = input('삽임(i)/추출(e)확인(v)/종료(x) 중 하나를 선택 == > ')\n",
    "\n",
    "    while (select != 'X' and select != 'x'):\n",
    "        if select == 'I' or select == 'i':\n",
    "            data = input('입력할 데이터 == >')\n",
    "            put_in(data)\n",
    "            print('스택상태 :',stack)\n",
    "\n",
    "        elif select == 'E' or select == 'e':\n",
    "            data = Extraction()\n",
    "            print('추출된 데이터 == >',data)\n",
    "            print('스택 상태 : ' , stack)\n",
    "\n",
    "        elif select == 'V' or select == 'v' :\n",
    "            data = check()\n",
    "            print('확인된 데이터 ==> ' , data)\n",
    "            print('스택 상태 : ' , stack)\n",
    "\n",
    "        else:\n",
    "            print('입력이 잘못됨 ')\n",
    "\n",
    "        select = input('삽입(I)/추출(E)/확인(V)종료/(X)중 하나를 선택 == > ')\n",
    "\n",
    "    print('프로그램 종료!')"
   ]
  },
  {
   "cell_type": "markdown",
   "metadata": {},
   "source": [
    "### 문제 2번 "
   ]
  },
  {
   "cell_type": "code",
   "execution_count": 65,
   "metadata": {},
   "outputs": [],
   "source": [
    "def StackFull():\n",
    "    global SIZE, queue, front, rear\n",
    "    if rear == SIZE - 1:\n",
    "        return True\n",
    "    else:\n",
    "        return False\n",
    "    "
   ]
  },
  {
   "cell_type": "code",
   "execution_count": 66,
   "metadata": {},
   "outputs": [],
   "source": [
    "def StackEmpty():\n",
    "    global SIZE, queue, front, rear\n",
    "    if rear == -1:  \n",
    "        return True\n",
    "    else:\n",
    "        return False"
   ]
  },
  {
   "cell_type": "code",
   "execution_count": 67,
   "metadata": {},
   "outputs": [],
   "source": [
    "def put_in(data):\n",
    "    global SIZE, queue, front, rear\n",
    "    if StackFull():\n",
    "        print(\"Queue is Full\")\n",
    "        return\n",
    "    rear += 1  \n",
    "    queue[rear] = data"
   ]
  },
  {
   "cell_type": "code",
   "execution_count": 68,
   "metadata": {},
   "outputs": [],
   "source": [
    "def Extraction():\n",
    "    global SIZE, queue, front, rear\n",
    "    if StackEmpty():\n",
    "        print(\"Queue is Empty\")\n",
    "        return None\n",
    "    data = queue[front+1]\n",
    "    for i in range(front+1, rear):\n",
    "        queue[i] = queue[i+1]  \n",
    "    queue[rear] = None  \n",
    "    rear -= 1  \n",
    "    return data\n"
   ]
  },
  {
   "cell_type": "code",
   "execution_count": 69,
   "metadata": {},
   "outputs": [],
   "source": [
    "def check():\n",
    "    global SIZE, queue, front, rear\n",
    "    if StackEmpty():\n",
    "        print(\"Queue is Empty\")\n",
    "        return None\n",
    "    return queue[front+1]"
   ]
  },
  {
   "cell_type": "code",
   "execution_count": 70,
   "metadata": {},
   "outputs": [],
   "source": [
    "SIZE = 5\n",
    "queue = [None for _ in range(SIZE)]\n",
    "front = rear = -1"
   ]
  },
  {
   "cell_type": "code",
   "execution_count": null,
   "metadata": {},
   "outputs": [],
   "source": [
    "\n",
    "if __name__ == \"__main__\":\n",
    "    while True:\n",
    "        select = input(\"삽입(I)/추출(E)/확인(V)/종료(X) 중 하나를 선택 ==>\")\n",
    "\n",
    "        if select == 'X' or select == 'x':\n",
    "            print(\"End of 식당\")\n",
    "            break\n",
    "\n",
    "        if select == 'I' or select == 'i':\n",
    "            data = input(\"입력 데이터 ==> \")\n",
    "            put_in(data)\n",
    "            print(\"웨이팅 상태 => \", queue)\n",
    "        elif select == 'E' or select == 'e':\n",
    "            data = Extraction()\n",
    "            if data is not None:\n",
    "                print(data, '님 입장부탁드립니다')\n",
    "            print(\"웨이팅 상태\", queue)\n",
    "        elif select == 'V' or select == 'v':\n",
    "            data = check()\n",
    "            if data is not None:\n",
    "                print(\"확인된 데이터 ==> \", data)\n",
    "            print(\"웨이팅 상태\", queue)\n",
    "        else:\n",
    "            print(\"입력값 잘못됨\")\n"
   ]
  }
 ],
 "metadata": {
  "kernelspec": {
   "display_name": "Python 3",
   "language": "python",
   "name": "python3"
  },
  "language_info": {
   "codemirror_mode": {
    "name": "ipython",
    "version": 3
   },
   "file_extension": ".py",
   "mimetype": "text/x-python",
   "name": "python",
   "nbconvert_exporter": "python",
   "pygments_lexer": "ipython3",
   "version": "3.11.5"
  }
 },
 "nbformat": 4,
 "nbformat_minor": 2
}
